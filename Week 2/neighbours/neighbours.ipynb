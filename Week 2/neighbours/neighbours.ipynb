{
 "cells": [
  {
   "cell_type": "code",
   "execution_count": 118,
   "metadata": {
    "collapsed": true
   },
   "outputs": [],
   "source": [
    "import pandas as pd"
   ]
  },
  {
   "cell_type": "code",
   "execution_count": 149,
   "metadata": {
    "collapsed": false
   },
   "outputs": [],
   "source": [
    "import sklearn as sk\n",
    "from sklearn.cross_validation import KFold\n",
    "from sklearn.neighbors import KNeighborsClassifier\n",
    "from sklearn.cross_validation import cross_val_score\n",
    "from sklearn.preprocessing import scale"
   ]
  },
  {
   "cell_type": "code",
   "execution_count": 121,
   "metadata": {
    "collapsed": true
   },
   "outputs": [],
   "source": [
    "import numpy as np"
   ]
  },
  {
   "cell_type": "code",
   "execution_count": 122,
   "metadata": {
    "collapsed": true
   },
   "outputs": [],
   "source": [
    "data = pd.read_csv('wine.data.csv', header = None)"
   ]
  },
  {
   "cell_type": "code",
   "execution_count": 123,
   "metadata": {
    "collapsed": false
   },
   "outputs": [],
   "source": [
    "kfold = KFold(len(data), n_folds = 5, shuffle = True, random_state = 42)"
   ]
  },
  {
   "cell_type": "code",
   "execution_count": 124,
   "metadata": {
    "collapsed": false
   },
   "outputs": [],
   "source": [
    "X = data[range(1, 14)].as_matrix()"
   ]
  },
  {
   "cell_type": "code",
   "execution_count": 125,
   "metadata": {
    "collapsed": false
   },
   "outputs": [],
   "source": [
    "y = data[0].as_matrix()"
   ]
  },
  {
   "cell_type": "code",
   "execution_count": 126,
   "metadata": {
    "collapsed": false
   },
   "outputs": [],
   "source": [
    "scores = []"
   ]
  },
  {
   "cell_type": "code",
   "execution_count": 138,
   "metadata": {
    "collapsed": false
   },
   "outputs": [],
   "source": [
    "for i in range(1, 51) :\n",
    "    scores.append(cross_val_score(estimator = KNeighborsClassifier(i), X = X, y = y, cv = kfold))"
   ]
  },
  {
   "cell_type": "code",
   "execution_count": 139,
   "metadata": {
    "collapsed": false
   },
   "outputs": [],
   "source": [
    "scores_mean = [np.mean(x) for x in scores]"
   ]
  },
  {
   "cell_type": "code",
   "execution_count": null,
   "metadata": {
    "collapsed": true
   },
   "outputs": [],
   "source": [
    "# First pair of answers"
   ]
  },
  {
   "cell_type": "code",
   "execution_count": 148,
   "metadata": {
    "collapsed": false
   },
   "outputs": [
    {
     "data": {
      "text/plain": [
       "(0.7304761904761905, 1)"
      ]
     },
     "execution_count": 148,
     "metadata": {},
     "output_type": "execute_result"
    }
   ],
   "source": [
    "np.argmax(scores_mean) + 1, np.max(scores_mean)"
   ]
  },
  {
   "cell_type": "code",
   "execution_count": 166,
   "metadata": {
    "collapsed": false
   },
   "outputs": [],
   "source": [
    "X_scaled = scale(X)"
   ]
  },
  {
   "cell_type": "code",
   "execution_count": 160,
   "metadata": {
    "collapsed": false
   },
   "outputs": [],
   "source": [
    "scores_scaled = []"
   ]
  },
  {
   "cell_type": "code",
   "execution_count": 167,
   "metadata": {
    "collapsed": true
   },
   "outputs": [],
   "source": [
    "for i in range(1, 51) :\n",
    "    scores_scaled.append(cross_val_score(estimator = KNeighborsClassifier(i), X = X_scaled, y = y, cv = kfold))"
   ]
  },
  {
   "cell_type": "code",
   "execution_count": 168,
   "metadata": {
    "collapsed": true
   },
   "outputs": [],
   "source": [
    "scores_scaled_mean = [np.mean(x) for x in scores_scaled]"
   ]
  },
  {
   "cell_type": "code",
   "execution_count": 169,
   "metadata": {
    "collapsed": true
   },
   "outputs": [],
   "source": [
    "# Second pair of answers"
   ]
  },
  {
   "cell_type": "code",
   "execution_count": 170,
   "metadata": {
    "collapsed": false
   },
   "outputs": [
    {
     "data": {
      "text/plain": [
       "[0.94396825396825401,\n",
       " 0.93285714285714294,\n",
       " 0.95507936507936508,\n",
       " 0.93825396825396834,\n",
       " 0.94936507936507941,\n",
       " 0.94952380952380955,\n",
       " 0.94952380952380955,\n",
       " 0.95523809523809522,\n",
       " 0.96079365079365076,\n",
       " 0.96079365079365076,\n",
       " 0.96095238095238089,\n",
       " 0.95523809523809522,\n",
       " 0.94952380952380933,\n",
       " 0.96634920634920629,\n",
       " 0.97206349206349218,\n",
       " 0.97206349206349218,\n",
       " 0.96650793650793643,\n",
       " 0.96650793650793643,\n",
       " 0.95539682539682536,\n",
       " 0.96650793650793643,\n",
       " 0.96095238095238111,\n",
       " 0.96650793650793643,\n",
       " 0.96095238095238089,\n",
       " 0.95523809523809522,\n",
       " 0.95523809523809522,\n",
       " 0.96079365079365076,\n",
       " 0.95523809523809522,\n",
       " 0.96634920634920629,\n",
       " 0.9776190476190475,\n",
       " 0.96079365079365076,\n",
       " 0.95523809523809522,\n",
       " 0.96079365079365076,\n",
       " 0.96634920634920629,\n",
       " 0.96634920634920629,\n",
       " 0.96079365079365076,\n",
       " 0.96079365079365076,\n",
       " 0.95523809523809522,\n",
       " 0.96079365079365076,\n",
       " 0.96079365079365076,\n",
       " 0.96079365079365076,\n",
       " 0.96634920634920629,\n",
       " 0.96079365079365076,\n",
       " 0.96634920634920629,\n",
       " 0.96063492063492062,\n",
       " 0.96634920634920629,\n",
       " 0.94952380952380955,\n",
       " 0.95507936507936508,\n",
       " 0.94952380952380955,\n",
       " 0.95507936507936508,\n",
       " 0.96063492063492062]"
      ]
     },
     "execution_count": 170,
     "metadata": {},
     "output_type": "execute_result"
    }
   ],
   "source": [
    "scores_scaled_mean"
   ]
  },
  {
   "cell_type": "code",
   "execution_count": 171,
   "metadata": {
    "collapsed": false
   },
   "outputs": [
    {
     "data": {
      "text/plain": [
       "(29, 0.9776190476190475)"
      ]
     },
     "execution_count": 171,
     "metadata": {},
     "output_type": "execute_result"
    }
   ],
   "source": [
    "np.argmax(scores_scaled_mean) + 1, np.max(scores_scaled_mean)"
   ]
  },
  {
   "cell_type": "code",
   "execution_count": null,
   "metadata": {
    "collapsed": true
   },
   "outputs": [],
   "source": []
  }
 ],
 "metadata": {
  "kernelspec": {
   "display_name": "Python 2",
   "language": "python",
   "name": "python2"
  },
  "language_info": {
   "codemirror_mode": {
    "name": "ipython",
    "version": 2
   },
   "file_extension": ".py",
   "mimetype": "text/x-python",
   "name": "python",
   "nbconvert_exporter": "python",
   "pygments_lexer": "ipython2",
   "version": "2.7.11"
  }
 },
 "nbformat": 4,
 "nbformat_minor": 0
}
