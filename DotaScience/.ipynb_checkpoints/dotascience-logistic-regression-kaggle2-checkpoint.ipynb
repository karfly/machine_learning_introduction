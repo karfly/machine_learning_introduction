{
 "cells": [
  {
   "cell_type": "markdown",
   "metadata": {},
   "source": [
    "# Improvement: own classifier for each lobby"
   ]
  },
  {
   "cell_type": "code",
   "execution_count": 41,
   "metadata": {
    "collapsed": true
   },
   "outputs": [],
   "source": [
    "import pandas as pd"
   ]
  },
  {
   "cell_type": "code",
   "execution_count": 42,
   "metadata": {
    "collapsed": true
   },
   "outputs": [],
   "source": [
    "import numpy as np"
   ]
  },
  {
   "cell_type": "code",
   "execution_count": 43,
   "metadata": {
    "collapsed": true
   },
   "outputs": [],
   "source": [
    "from sklearn.linear_model import LogisticRegression\n",
    "\n",
    "from sklearn.preprocessing import scale\n",
    "\n",
    "from sklearn.cross_validation import KFold\n",
    "from sklearn.cross_validation import cross_val_score\n",
    "\n",
    "from sklearn.metrics import roc_auc_score"
   ]
  },
  {
   "cell_type": "markdown",
   "metadata": {},
   "source": [
    "# The function that cleans data"
   ]
  },
  {
   "cell_type": "code",
   "execution_count": 68,
   "metadata": {
    "collapsed": true
   },
   "outputs": [],
   "source": [
    "# Input: pandas dataframe, Output: numpy matrix\n",
    "def clean_data(features) :\n",
    "    \n",
    "    features.drop('lobby_type', axis = 1, inplace = True)\n",
    "    \n",
    "    # Time\n",
    "    min_time = min(features['start_time'])\n",
    "    features['start_time'] = features['start_time'] - min(features['start_time'])\n",
    "    \n",
    "    # NaN's: categorical\n",
    "    categorical_features = ['first_blood_player1', 'first_blood_player2',\n",
    "                            'r1_hero', 'r2_hero', 'r3_hero', 'r4_hero', 'r5_hero',\n",
    "                            'd1_hero', 'd2_hero', 'd3_hero', 'd4_hero', 'd5_hero']\n",
    "    for categorical_feature in categorical_features :\n",
    "        most_popular = features[categorical_feature].dropna().value_counts().idxmax()\n",
    "        features[categorical_feature].fillna(most_popular, inplace = True)\n",
    "        \n",
    "    # NaN's: numerical\n",
    "    time_features = ['first_blood_time',\n",
    "                     'radiant_bottle_time', 'radiant_courier_time', 'radiant_flying_courier_time', 'radiant_first_ward_time',\n",
    "                     'dire_bottle_time', 'dire_courier_time', 'dire_flying_courier_time', 'dire_first_ward_time']\n",
    "    \n",
    "    numerical_features = []\n",
    "    for feature in features :\n",
    "        if (feature not in categorical_features) :\n",
    "            numerical_features.append(feature)\n",
    "            \n",
    "    for numerical_feature in numerical_features :\n",
    "        if (numerical_feature in time_features) :\n",
    "            features[numerical_feature].fillna(300, inplace = True)\n",
    "        else :\n",
    "            median = features[numerical_feature].dropna().median()\n",
    "            features[numerical_feature].fillna(median, inplace = True)\n",
    "    \n",
    "    # Scaling numerical features\n",
    "    X_numerical_scaled = scale(features[numerical_features].as_matrix())\n",
    "    \n",
    "    # How many heros are in the game?\n",
    "    hero_features = ['r1_hero', 'r2_hero', 'r3_hero', 'r4_hero', 'r5_hero',\n",
    "                     'd1_hero', 'd2_hero', 'd3_hero', 'd4_hero', 'd5_hero']\n",
    "    n_heroes = [max(features_train[x].value_counts().index) for x in hero_features]\n",
    "    N = max(n_heroes)\n",
    "      \n",
    "    # Using bag of words for categorical features\n",
    "    X_pick = np.zeros((features.shape[0], N))\n",
    "    for i, match_id in enumerate(features.index):\n",
    "        for p in xrange(5):\n",
    "            X_pick[i, features.ix[match_id, 'r%d_hero' % (p + 1)] - 1] = 1\n",
    "            X_pick[i, features.ix[match_id, 'd%d_hero' % (p + 1)] - 1] = -1\n",
    "    \n",
    "    return np.hstack((X_numerical_scaled, X_pick))"
   ]
  },
  {
   "cell_type": "markdown",
   "metadata": {},
   "source": [
    "# Getting and preparing data"
   ]
  },
  {
   "cell_type": "code",
   "execution_count": 69,
   "metadata": {
    "collapsed": false
   },
   "outputs": [],
   "source": [
    "features_train = pd.read_csv('./data/features.csv', index_col='match_id')\n",
    "features_test  = pd.read_csv('./data/features_test.csv', index_col='match_id')"
   ]
  },
  {
   "cell_type": "code",
   "execution_count": 70,
   "metadata": {
    "collapsed": false
   },
   "outputs": [],
   "source": [
    "target_train = features_train['radiant_win']"
   ]
  },
  {
   "cell_type": "code",
   "execution_count": 71,
   "metadata": {
    "collapsed": false
   },
   "outputs": [],
   "source": [
    "features_train.drop(['duration', 'radiant_win', 'tower_status_radiant','tower_status_dire',\n",
    "                     'barracks_status_radiant', 'barracks_status_dire'], axis = 1, inplace = True)"
   ]
  },
  {
   "cell_type": "code",
   "execution_count": 72,
   "metadata": {
    "collapsed": false
   },
   "outputs": [
    {
     "data": {
      "text/plain": [
       "1    55962\n",
       "7    28550\n",
       "0    12718\n",
       "Name: lobby_type, dtype: int64"
      ]
     },
     "execution_count": 72,
     "metadata": {},
     "output_type": "execute_result"
    }
   ],
   "source": [
    "features_train['lobby_type'].value_counts()"
   ]
  },
  {
   "cell_type": "code",
   "execution_count": 73,
   "metadata": {
    "collapsed": false
   },
   "outputs": [],
   "source": [
    "features_train_lobby0 = features_train[features_train['lobby_type'] == 0]\n",
    "features_train_lobby1 = features_train[features_train['lobby_type'] == 1]\n",
    "features_train_lobby7 = features_train[features_train['lobby_type'] == 7]\n",
    "\n",
    "features_test_lobby0 = features_test[features_test['lobby_type'] == 0]\n",
    "features_test_lobby1 = features_test[features_test['lobby_type'] == 1]\n",
    "features_test_lobby7 = features_test[features_test['lobby_type'] == 7]"
   ]
  },
  {
   "cell_type": "code",
   "execution_count": 74,
   "metadata": {
    "collapsed": false
   },
   "outputs": [
    {
     "name": "stderr",
     "output_type": "stream",
     "text": [
      "/Users/karfly/anaconda/lib/python2.7/site-packages/ipykernel/__main__.py:4: SettingWithCopyWarning: \n",
      "A value is trying to be set on a copy of a slice from a DataFrame\n",
      "\n",
      "See the caveats in the documentation: http://pandas.pydata.org/pandas-docs/stable/indexing.html#indexing-view-versus-copy\n",
      "/Users/karfly/anaconda/lib/python2.7/site-packages/ipykernel/__main__.py:8: SettingWithCopyWarning: \n",
      "A value is trying to be set on a copy of a slice from a DataFrame.\n",
      "Try using .loc[row_indexer,col_indexer] = value instead\n",
      "\n",
      "See the caveats in the documentation: http://pandas.pydata.org/pandas-docs/stable/indexing.html#indexing-view-versus-copy\n"
     ]
    }
   ],
   "source": [
    "X_train_lobby0 = clean_data(features_train_lobby0)\n",
    "X_train_lobby1 = clean_data(features_train_lobby1)\n",
    "X_train_lobby7 = clean_data(features_train_lobby7)\n",
    "\n",
    "X_test_lobby0 = clean_data(features_test_lobby0)\n",
    "X_test_lobby1 = clean_data(features_test_lobby1)\n",
    "X_test_lobby7 = clean_data(features_test_lobby7)"
   ]
  },
  {
   "cell_type": "code",
   "execution_count": 75,
   "metadata": {
    "collapsed": true
   },
   "outputs": [],
   "source": [
    "y_train_lobby0 = target_train[features_train['lobby_type'] == 0].as_matrix()\n",
    "y_train_lobby1 = target_train[features_train['lobby_type'] == 1].as_matrix()\n",
    "y_train_lobby7 = target_train[features_train['lobby_type'] == 7].as_matrix()"
   ]
  },
  {
   "cell_type": "markdown",
   "metadata": {},
   "source": [
    "# Creating and testing logistic regression model"
   ]
  },
  {
   "cell_type": "code",
   "execution_count": 76,
   "metadata": {
    "collapsed": false
   },
   "outputs": [
    {
     "data": {
      "text/plain": [
       "LogisticRegression(C=0.1, class_weight=None, dual=False, fit_intercept=True,\n",
       "          intercept_scaling=1, max_iter=100, multi_class='ovr', n_jobs=-1,\n",
       "          penalty='l2', random_state=42, solver='liblinear', tol=0.0001,\n",
       "          verbose=0, warm_start=False)"
      ]
     },
     "execution_count": 76,
     "metadata": {},
     "output_type": "execute_result"
    }
   ],
   "source": [
    "clf_lobby0 = LogisticRegression(penalty = 'l2', C = 0.1, random_state = 42, n_jobs = -1)\n",
    "clf_lobby0.fit(X_train_lobby0, y_train_lobby0)"
   ]
  },
  {
   "cell_type": "code",
   "execution_count": 77,
   "metadata": {
    "collapsed": false
   },
   "outputs": [
    {
     "data": {
      "text/plain": [
       "LogisticRegression(C=0.1, class_weight=None, dual=False, fit_intercept=True,\n",
       "          intercept_scaling=1, max_iter=100, multi_class='ovr', n_jobs=-1,\n",
       "          penalty='l2', random_state=42, solver='liblinear', tol=0.0001,\n",
       "          verbose=0, warm_start=False)"
      ]
     },
     "execution_count": 77,
     "metadata": {},
     "output_type": "execute_result"
    }
   ],
   "source": [
    "clf_lobby1 = LogisticRegression(penalty = 'l2', C = 0.1, random_state = 42, n_jobs = -1)\n",
    "clf_lobby1.fit(X_train_lobby1, y_train_lobby1)"
   ]
  },
  {
   "cell_type": "code",
   "execution_count": 78,
   "metadata": {
    "collapsed": false
   },
   "outputs": [
    {
     "data": {
      "text/plain": [
       "LogisticRegression(C=0.1, class_weight=None, dual=False, fit_intercept=True,\n",
       "          intercept_scaling=1, max_iter=100, multi_class='ovr', n_jobs=-1,\n",
       "          penalty='l2', random_state=42, solver='liblinear', tol=0.0001,\n",
       "          verbose=0, warm_start=False)"
      ]
     },
     "execution_count": 78,
     "metadata": {},
     "output_type": "execute_result"
    }
   ],
   "source": [
    "clf_lobby7 = LogisticRegression(penalty = 'l2', C = 0.1, random_state = 42, n_jobs = -1)\n",
    "clf_lobby7.fit(X_train_lobby7, y_train_lobby7)"
   ]
  },
  {
   "cell_type": "code",
   "execution_count": 79,
   "metadata": {
    "collapsed": false
   },
   "outputs": [
    {
     "ename": "NameError",
     "evalue": "name 'KFold' is not defined",
     "output_type": "error",
     "traceback": [
      "\u001b[0;31m---------------------------------------------------------------------------\u001b[0m",
      "\u001b[0;31mNameError\u001b[0m                                 Traceback (most recent call last)",
      "\u001b[0;32m<ipython-input-79-5dee5681d9ad>\u001b[0m in \u001b[0;36m<module>\u001b[0;34m()\u001b[0m\n\u001b[0;32m----> 1\u001b[0;31m \u001b[0mkfold\u001b[0m \u001b[0;34m=\u001b[0m \u001b[0mKFold\u001b[0m\u001b[0;34m(\u001b[0m\u001b[0mlen\u001b[0m\u001b[0;34m(\u001b[0m\u001b[0my_train_lobby0\u001b[0m\u001b[0;34m)\u001b[0m\u001b[0;34m,\u001b[0m \u001b[0mn_folds\u001b[0m \u001b[0;34m=\u001b[0m \u001b[0;36m5\u001b[0m\u001b[0;34m,\u001b[0m \u001b[0mshuffle\u001b[0m \u001b[0;34m=\u001b[0m \u001b[0mTrue\u001b[0m\u001b[0;34m,\u001b[0m \u001b[0mrandom_state\u001b[0m \u001b[0;34m=\u001b[0m \u001b[0;36m42\u001b[0m\u001b[0;34m)\u001b[0m\u001b[0;34m\u001b[0m\u001b[0m\n\u001b[0m\u001b[1;32m      2\u001b[0m score = cross_val_score(estimator = clf_lobby0,\n\u001b[1;32m      3\u001b[0m                           \u001b[0mX\u001b[0m \u001b[0;34m=\u001b[0m \u001b[0mX_train_lobby0\u001b[0m\u001b[0;34m,\u001b[0m\u001b[0;34m\u001b[0m\u001b[0m\n\u001b[1;32m      4\u001b[0m                           \u001b[0my\u001b[0m \u001b[0;34m=\u001b[0m \u001b[0my_train_lobby0\u001b[0m\u001b[0;34m,\u001b[0m\u001b[0;34m\u001b[0m\u001b[0m\n\u001b[1;32m      5\u001b[0m                           \u001b[0mcv\u001b[0m \u001b[0;34m=\u001b[0m \u001b[0mkfold\u001b[0m\u001b[0;34m,\u001b[0m\u001b[0;34m\u001b[0m\u001b[0m\n",
      "\u001b[0;31mNameError\u001b[0m: name 'KFold' is not defined"
     ]
    }
   ],
   "source": [
    "kfold = KFold(len(y_train_lobby0), n_folds = 5, shuffle = True, random_state = 42)\n",
    "score = cross_val_score(estimator = clf_lobby0,\n",
    "                          X = X_train_lobby0,\n",
    "                          y = y_train_lobby0,\n",
    "                          cv = kfold,\n",
    "                          scoring = 'roc_auc',\n",
    "                          n_jobs = -1,\n",
    "                          verbose = True)"
   ]
  },
  {
   "cell_type": "code",
   "execution_count": null,
   "metadata": {
    "collapsed": false
   },
   "outputs": [],
   "source": [
    "predictions = clf.predict_proba(X_test)"
   ]
  },
  {
   "cell_type": "code",
   "execution_count": null,
   "metadata": {
    "collapsed": false
   },
   "outputs": [],
   "source": [
    "predictions_radiant_win = predictions[:, 1]"
   ]
  },
  {
   "cell_type": "code",
   "execution_count": null,
   "metadata": {
    "collapsed": false
   },
   "outputs": [],
   "source": [
    "len(predictions_radiant_win)"
   ]
  },
  {
   "cell_type": "code",
   "execution_count": null,
   "metadata": {
    "collapsed": false
   },
   "outputs": [],
   "source": [
    "match_id_test = features_test.index"
   ]
  },
  {
   "cell_type": "code",
   "execution_count": null,
   "metadata": {
    "collapsed": false
   },
   "outputs": [],
   "source": [
    "kaggle_answer = pd.DataFrame({'match_id'    : match_id_test,\n",
    "                              'radiant_win' : predictions_radiant_win\n",
    "                             })"
   ]
  },
  {
   "cell_type": "code",
   "execution_count": null,
   "metadata": {
    "collapsed": false
   },
   "outputs": [],
   "source": [
    "kaggle_answer.to_csv('kaggle_answers/1.csv', index = False)"
   ]
  },
  {
   "cell_type": "code",
   "execution_count": null,
   "metadata": {
    "collapsed": true
   },
   "outputs": [],
   "source": []
  }
 ],
 "metadata": {
  "kernelspec": {
   "display_name": "Python 2",
   "language": "python",
   "name": "python2"
  },
  "language_info": {
   "codemirror_mode": {
    "name": "ipython",
    "version": 2
   },
   "file_extension": ".py",
   "mimetype": "text/x-python",
   "name": "python",
   "nbconvert_exporter": "python",
   "pygments_lexer": "ipython2",
   "version": "2.7.11"
  }
 },
 "nbformat": 4,
 "nbformat_minor": 0
}
