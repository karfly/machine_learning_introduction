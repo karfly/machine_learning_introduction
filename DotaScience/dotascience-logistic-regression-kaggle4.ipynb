{
 "cells": [
  {
   "cell_type": "markdown",
   "metadata": {},
   "source": [
    "# Improvement: separate classifiers for lobby 1 and  lobbies 0, 7 (teaching lobbies 0, 7 on all data)\n",
    "Kaggle score: 0.75784"
   ]
  },
  {
   "cell_type": "code",
   "execution_count": 1,
   "metadata": {
    "collapsed": true
   },
   "outputs": [],
   "source": [
    "import pandas as pd"
   ]
  },
  {
   "cell_type": "code",
   "execution_count": 2,
   "metadata": {
    "collapsed": true
   },
   "outputs": [],
   "source": [
    "import numpy as np"
   ]
  },
  {
   "cell_type": "code",
   "execution_count": 3,
   "metadata": {
    "collapsed": true
   },
   "outputs": [],
   "source": [
    "from sklearn.linear_model import LogisticRegression\n",
    "\n",
    "from sklearn.preprocessing import scale\n",
    "\n",
    "from sklearn.cross_validation import KFold\n",
    "from sklearn.cross_validation import cross_val_score\n",
    "\n",
    "from sklearn.metrics import roc_auc_score"
   ]
  },
  {
   "cell_type": "markdown",
   "metadata": {},
   "source": [
    "# The function that cleans data"
   ]
  },
  {
   "cell_type": "code",
   "execution_count": 4,
   "metadata": {
    "collapsed": true
   },
   "outputs": [],
   "source": [
    "# Input: pandas dataframe, Output: numpy matrix\n",
    "def clean_data(features) :\n",
    "    \n",
    "    features.drop('lobby_type', axis = 1, inplace = True)\n",
    "    \n",
    "    # Time\n",
    "    min_time = min(features['start_time'])\n",
    "    features['start_time'] = features['start_time'] - min(features['start_time'])\n",
    "    \n",
    "    # NaN's: categorical\n",
    "    categorical_features = ['first_blood_player1', 'first_blood_player2',\n",
    "                            'r1_hero', 'r2_hero', 'r3_hero', 'r4_hero', 'r5_hero',\n",
    "                            'd1_hero', 'd2_hero', 'd3_hero', 'd4_hero', 'd5_hero']\n",
    "    for categorical_feature in categorical_features :\n",
    "        most_popular = features[categorical_feature].dropna().value_counts().idxmax()\n",
    "        features[categorical_feature].fillna(most_popular, inplace = True)\n",
    "        \n",
    "    # NaN's: numerical\n",
    "    time_features = ['first_blood_time',\n",
    "                     'radiant_bottle_time', 'radiant_courier_time', 'radiant_flying_courier_time', 'radiant_first_ward_time',\n",
    "                     'dire_bottle_time', 'dire_courier_time', 'dire_flying_courier_time', 'dire_first_ward_time']\n",
    "    \n",
    "    numerical_features = []\n",
    "    for feature in features :\n",
    "        if (feature not in categorical_features) :\n",
    "            numerical_features.append(feature)\n",
    "            \n",
    "    for numerical_feature in numerical_features :\n",
    "        if (numerical_feature in time_features) :\n",
    "            features[numerical_feature].fillna(300, inplace = True)\n",
    "        else :\n",
    "            median = features[numerical_feature].dropna().median()\n",
    "            features[numerical_feature].fillna(median, inplace = True)\n",
    "    \n",
    "    # Scaling numerical features\n",
    "    X_numerical_scaled = scale(features[numerical_features].as_matrix())\n",
    "    \n",
    "    # How many heros are in the game?\n",
    "    hero_features = ['r1_hero', 'r2_hero', 'r3_hero', 'r4_hero', 'r5_hero',\n",
    "                     'd1_hero', 'd2_hero', 'd3_hero', 'd4_hero', 'd5_hero']\n",
    "    n_heroes = [max(features_train[x].value_counts().index) for x in hero_features]\n",
    "    N = max(n_heroes)\n",
    "      \n",
    "    # Using bag of words for categorical features\n",
    "    X_pick = np.zeros((features.shape[0], N))\n",
    "    for i, match_id in enumerate(features.index):\n",
    "        for p in xrange(5):\n",
    "            X_pick[i, features.ix[match_id, 'r%d_hero' % (p + 1)] - 1] = 1\n",
    "            X_pick[i, features.ix[match_id, 'd%d_hero' % (p + 1)] - 1] = -1\n",
    "    \n",
    "    return np.hstack((X_numerical_scaled, X_pick))"
   ]
  },
  {
   "cell_type": "markdown",
   "metadata": {},
   "source": [
    "# Getting and preparing data"
   ]
  },
  {
   "cell_type": "code",
   "execution_count": 5,
   "metadata": {
    "collapsed": false
   },
   "outputs": [],
   "source": [
    "features_train = pd.read_csv('./data/features.csv', index_col='match_id')\n",
    "features_test  = pd.read_csv('./data/features_test.csv', index_col='match_id')"
   ]
  },
  {
   "cell_type": "code",
   "execution_count": 6,
   "metadata": {
    "collapsed": false
   },
   "outputs": [],
   "source": [
    "target_train = features_train['radiant_win']"
   ]
  },
  {
   "cell_type": "code",
   "execution_count": 7,
   "metadata": {
    "collapsed": false
   },
   "outputs": [],
   "source": [
    "features_train.drop(['duration', 'radiant_win', 'tower_status_radiant','tower_status_dire',\n",
    "                     'barracks_status_radiant', 'barracks_status_dire'], axis = 1, inplace = True)"
   ]
  },
  {
   "cell_type": "code",
   "execution_count": 8,
   "metadata": {
    "collapsed": false
   },
   "outputs": [
    {
     "data": {
      "text/plain": [
       "1    55962\n",
       "7    28550\n",
       "0    12718\n",
       "Name: lobby_type, dtype: int64"
      ]
     },
     "execution_count": 8,
     "metadata": {},
     "output_type": "execute_result"
    }
   ],
   "source": [
    "features_train['lobby_type'].value_counts()"
   ]
  },
  {
   "cell_type": "code",
   "execution_count": 9,
   "metadata": {
    "collapsed": false
   },
   "outputs": [],
   "source": [
    "features_train_lobby1  = features_train[features_train['lobby_type'] == 1].copy()\n",
    "features_train_lobby07 = features_train.copy() # Train on all data\n",
    "1\n",
    "features_test_lobby1  = features_test[features_test['lobby_type'] == 1].copy()\n",
    "features_test_lobby07 = features_test[features_test['lobby_type'] != 1].copy()"
   ]
  },
  {
   "cell_type": "code",
   "execution_count": 10,
   "metadata": {
    "collapsed": false
   },
   "outputs": [],
   "source": [
    "y_train_lobby1  = target_train[features_train['lobby_type'] == 1].as_matrix()\n",
    "y_train_lobby07 = target_train.as_matrix()"
   ]
  },
  {
   "cell_type": "code",
   "execution_count": 11,
   "metadata": {
    "collapsed": false
   },
   "outputs": [
    {
     "name": "stderr",
     "output_type": "stream",
     "text": [
      "/Users/karfly/anaconda/lib/python2.7/site-packages/sklearn/preprocessing/data.py:167: UserWarning: Numerical issues were encountered when centering the data and might not be solved. Dataset may contain too large values. You may need to prescale your features.\n",
      "  warnings.warn(\"Numerical issues were encountered \"\n"
     ]
    }
   ],
   "source": [
    "X_train_lobby1  = clean_data(features_train_lobby1)\n",
    "X_train_lobby07 = clean_data(features_train_lobby07)\n",
    "\n",
    "X_test_lobby1  = clean_data(features_test_lobby1)\n",
    "X_test_lobby07 = clean_data(features_test_lobby07)"
   ]
  },
  {
   "cell_type": "markdown",
   "metadata": {},
   "source": [
    "# Creating and testing logistic regression model"
   ]
  },
  {
   "cell_type": "code",
   "execution_count": 12,
   "metadata": {
    "collapsed": false
   },
   "outputs": [
    {
     "data": {
      "text/plain": [
       "LogisticRegression(C=0.1, class_weight=None, dual=False, fit_intercept=True,\n",
       "          intercept_scaling=1, max_iter=100, multi_class='ovr', n_jobs=-1,\n",
       "          penalty='l2', random_state=42, solver='liblinear', tol=0.0001,\n",
       "          verbose=0, warm_start=False)"
      ]
     },
     "execution_count": 12,
     "metadata": {},
     "output_type": "execute_result"
    }
   ],
   "source": [
    "clf_lobby1 = LogisticRegression(penalty = 'l2', C = 0.1, random_state = 42, n_jobs = -1)\n",
    "clf_lobby1.fit(X_train_lobby1, y_train_lobby1)"
   ]
  },
  {
   "cell_type": "code",
   "execution_count": 13,
   "metadata": {
    "collapsed": false
   },
   "outputs": [
    {
     "data": {
      "text/plain": [
       "LogisticRegression(C=0.1, class_weight=None, dual=False, fit_intercept=True,\n",
       "          intercept_scaling=1, max_iter=100, multi_class='ovr', n_jobs=-1,\n",
       "          penalty='l2', random_state=42, solver='liblinear', tol=0.0001,\n",
       "          verbose=0, warm_start=False)"
      ]
     },
     "execution_count": 13,
     "metadata": {},
     "output_type": "execute_result"
    }
   ],
   "source": [
    "clf_lobby07 = LogisticRegression(penalty = 'l2', C = 0.1, random_state = 42, n_jobs = -1)\n",
    "clf_lobby07.fit(X_train_lobby07, y_train_lobby07)"
   ]
  },
  {
   "cell_type": "code",
   "execution_count": 14,
   "metadata": {
    "collapsed": false
   },
   "outputs": [
    {
     "name": "stderr",
     "output_type": "stream",
     "text": [
      "[Parallel(n_jobs=-1)]: Done   5 out of   5 | elapsed:   10.8s finished\n"
     ]
    }
   ],
   "source": [
    "kfold = KFold(len(y_train_lobby1), n_folds = 5, shuffle = True, random_state = 42) \n",
    "score = cross_val_score(estimator = clf_lobby1,\n",
    "                        X = X_train_lobby1,\n",
    "                        y = y_train_lobby1,\n",
    "                        cv = kfold,\n",
    "                        scoring = 'roc_auc',\n",
    "                        n_jobs = -1,\n",
    "                        verbose = True)"
   ]
  },
  {
   "cell_type": "code",
   "execution_count": 15,
   "metadata": {
    "collapsed": false
   },
   "outputs": [
    {
     "data": {
      "text/plain": [
       "0.77379316749930427"
      ]
     },
     "execution_count": 15,
     "metadata": {},
     "output_type": "execute_result"
    }
   ],
   "source": [
    "score.mean()"
   ]
  },
  {
   "cell_type": "code",
   "execution_count": 16,
   "metadata": {
    "collapsed": false
   },
   "outputs": [
    {
     "name": "stderr",
     "output_type": "stream",
     "text": [
      "[Parallel(n_jobs=-1)]: Done   5 out of   5 | elapsed:   17.8s finished\n"
     ]
    }
   ],
   "source": [
    "kfold = KFold(len(y_train_lobby07), n_folds = 5, shuffle = True, random_state = 42) \n",
    "score = cross_val_score(estimator = clf_lobby07,\n",
    "                        X = X_train_lobby07,\n",
    "                        y = y_train_lobby07,\n",
    "                        cv = kfold,\n",
    "                        scoring = 'roc_auc',\n",
    "                        n_jobs = -1,\n",
    "                        verbose = True)"
   ]
  },
  {
   "cell_type": "code",
   "execution_count": 17,
   "metadata": {
    "collapsed": false
   },
   "outputs": [
    {
     "data": {
      "text/plain": [
       "0.75240492206330423"
      ]
     },
     "execution_count": 17,
     "metadata": {},
     "output_type": "execute_result"
    }
   ],
   "source": [
    "score.mean()"
   ]
  },
  {
   "cell_type": "code",
   "execution_count": 18,
   "metadata": {
    "collapsed": false
   },
   "outputs": [],
   "source": [
    "predictions_lobby1 = clf_lobby1.predict_proba(X_test_lobby1)[:, 1]\n",
    "predictions_lobby1_df = pd.DataFrame({'match_id'    : features_test_lobby1.index,\n",
    "                                      'radiant_win' : predictions_lobby1\n",
    "                                     })"
   ]
  },
  {
   "cell_type": "code",
   "execution_count": 19,
   "metadata": {
    "collapsed": true
   },
   "outputs": [],
   "source": [
    "predictions_lobby07 = clf_lobby07.predict_proba(X_test_lobby07)[:, 1]\n",
    "predictions_lobby07_df = pd.DataFrame({'match_id'   : features_test_lobby07.index,\n",
    "                                      'radiant_win' : predictions_lobby07\n",
    "                                      })"
   ]
  },
  {
   "cell_type": "code",
   "execution_count": 20,
   "metadata": {
    "collapsed": true
   },
   "outputs": [],
   "source": [
    "kaggle_answer = pd.concat([predictions_lobby1_df, predictions_lobby07_df])"
   ]
  },
  {
   "cell_type": "code",
   "execution_count": 21,
   "metadata": {
    "collapsed": false
   },
   "outputs": [],
   "source": [
    "kaggle_answer.sort_values(by = ['match_id'], inplace = True)"
   ]
  },
  {
   "cell_type": "code",
   "execution_count": 22,
   "metadata": {
    "collapsed": false
   },
   "outputs": [],
   "source": [
    "#kaggle_answer.to_csv('kaggle_answers/4.csv', index = False)"
   ]
  },
  {
   "cell_type": "code",
   "execution_count": 50,
   "metadata": {
    "collapsed": false
   },
   "outputs": [],
   "source": [
    "features_coefs = zip(clf_lobby1.coef_[0], features_train.columns)"
   ]
  },
  {
   "cell_type": "code",
   "execution_count": 51,
   "metadata": {
    "collapsed": false
   },
   "outputs": [],
   "source": [
    "features_coefs.sort(key = lambda x: abs(x[0]), reverse = True)"
   ]
  },
  {
   "cell_type": "code",
   "execution_count": 52,
   "metadata": {
    "collapsed": false
   },
   "outputs": [
    {
     "data": {
      "text/plain": [
       "[(-0.55642323515149605, 'radiant_boots_count'),\n",
       " (-0.53867233483257715, 'dire_first_ward_time'),\n",
       " (-0.32990093485362437, 'd4_level'),\n",
       " (-0.29008170787401483, 'd3_xp'),\n",
       " (0.27804161121485454, 'dire_courier_time'),\n",
       " (-0.27545160235999105, 'd2_gold'),\n",
       " (0.27005482601856962, 'r3_hero'),\n",
       " (-0.25786378407602412, 'd1_lh'),\n",
       " (0.25750783505973068, 'r2_level'),\n",
       " (0.2438931229771602, 'r4_deaths'),\n",
       " (-0.24005024921229273, 'r5_lh'),\n",
       " (0.23312243909613062, 'r3_items'),\n",
       " (0.22132828149415951, 'r1_level'),\n",
       " (-0.21436871631458013, 'r5_kills'),\n",
       " (0.21397793537673052, 'r1_xp'),\n",
       " (0.20860004031564841, 'dire_boots_count'),\n",
       " (0.20407811786996036, 'r3_deaths'),\n",
       " (-0.19818184897124899, 'radiant_ward_observer_count'),\n",
       " (0.19745633826126413, 'r2_hero'),\n",
       " (0.19365543390918322, 'r4_kills'),\n",
       " (0.18231110276091611, 'dire_flying_courier_time'),\n",
       " (-0.17561249287202182, 'd3_level'),\n",
       " (-0.17204719479389502, 'radiant_ward_sentry_count'),\n",
       " (-0.16972302697322167, 'd1_gold'),\n",
       " (0.16895169652604761, 'dire_bottle_time'),\n",
       " (0.15162445197774377, 'r2_items'),\n",
       " (-0.15070078791646807, 'd1_xp'),\n",
       " (-0.14675088000903058, 'd2_level'),\n",
       " (-0.13838038124010732, 'd2_xp'),\n",
       " (0.12236597474181016, 'radiant_tpscroll_count'),\n",
       " (-0.12229875354118881, 'd3_items'),\n",
       " (0.12146320624795318, 'dire_ward_observer_count'),\n",
       " (-0.1116321063398074, 'd4_hero'),\n",
       " (0.11104220801450679, 'r1_hero'),\n",
       " (0.10991041074890265, 'r3_kills'),\n",
       " (-0.10534827563378127, 'r5_gold'),\n",
       " (-0.096613493911027304, 'dire_ward_sentry_count'),\n",
       " (0.093702433049743031, 'r4_lh'),\n",
       " (0.079760911524874287, 'r2_deaths'),\n",
       " (-0.077529355194162194, 'd3_hero'),\n",
       " (0.076471464091326283, 'r1_items'),\n",
       " (-0.071144966565614268, 'r4_level'),\n",
       " (-0.070590875996359922, 'r5_hero'),\n",
       " (0.069094740618477327, 'r5_deaths'),\n",
       " (-0.066071295053868953, 'd5_level'),\n",
       " (0.065867106402286435, 'r5_items'),\n",
       " (-0.065081775521457566, 'r3_xp'),\n",
       " (-0.061567662589895822, 'd5_deaths'),\n",
       " (0.058825683189624993, 'd4_gold'),\n",
       " (0.058251556071738896, 'd1_deaths'),\n",
       " (-0.05822305581222282, 'r1_lh'),\n",
       " (-0.057699064453437289, 'r1_gold'),\n",
       " (-0.057396180964256305, 'r4_items'),\n",
       " (0.055491149693773195, 'first_blood_player1'),\n",
       " (-0.054937655437816778, 'd5_xp'),\n",
       " (0.053650269916124524, 'd3_lh'),\n",
       " (0.051852249170857234, 'd2_kills'),\n",
       " (0.050879066955904564, 'd5_items'),\n",
       " (-0.049428411939243203, 'r2_xp'),\n",
       " (-0.048619370612363162, 'd2_deaths'),\n",
       " (-0.048470429170032921, 'r2_gold'),\n",
       " (-0.047352629248785867, 'd3_kills'),\n",
       " (0.047269600933804092, 'radiant_flying_courier_time'),\n",
       " (0.046015925182726958, 'd3_gold'),\n",
       " (0.045548185154822861, 'r1_deaths'),\n",
       " (0.045083948571580566, 'r1_kills'),\n",
       " (-0.042542641242233316, 'r4_hero'),\n",
       " (0.042286811060304762, 'd4_deaths'),\n",
       " (0.042212263078084185, 'd1_kills'),\n",
       " (0.042196398100655327, 'r5_level'),\n",
       " (-0.040980999427684316, 'd4_lh'),\n",
       " (-0.039788095494811736, 'd4_items'),\n",
       " (0.039211215009408294, 'r4_xp'),\n",
       " (-0.038706958586796257, 'd1_items'),\n",
       " (0.036540942351705366, 'first_blood_team'),\n",
       " (0.03527797772266146, 'radiant_first_ward_time'),\n",
       " (-0.035057286754217765, 'd5_hero'),\n",
       " (-0.034764040521989059, 'd1_hero'),\n",
       " (-0.034124638121412226, 'd2_items'),\n",
       " (0.033139769084861506, 'r3_gold'),\n",
       " (0.032804185147783736, 'd2_lh'),\n",
       " (-0.031429532106136741, 'd5_kills'),\n",
       " (-0.030491012047271008, 'first_blood_player2'),\n",
       " (0.028175277769850751, 'r2_kills'),\n",
       " (0.028136310997706547, 'd5_gold'),\n",
       " (-0.026799671257168887, 'r3_level'),\n",
       " (0.026728638988663286, 'start_time'),\n",
       " (0.026353917409308571, 'r4_gold'),\n",
       " (0.021433453363435221, 'r2_lh'),\n",
       " (-0.019736401484990323, 'd5_lh'),\n",
       " (0.017814177602602649, 'd4_xp'),\n",
       " (-0.016855234243027213, 'd3_deaths'),\n",
       " (0.015919037148060821, 'd2_hero'),\n",
       " (-0.015620812795074266, 'r5_xp'),\n",
       " (0.015294027099423575, 'radiant_courier_time'),\n",
       " (0.013829641146884713, 'r3_lh'),\n",
       " (0.0089381496712363472, 'radiant_bottle_time'),\n",
       " (-0.0085234696478538492, 'd4_kills'),\n",
       " (0.0050789546051307147, 'first_blood_time'),\n",
       " (0.003599046583384005, 'lobby_type'),\n",
       " (-0.0034509215616920518, 'dire_tpscroll_count'),\n",
       " (-0.002227052831300611, 'd1_level')]"
      ]
     },
     "execution_count": 52,
     "metadata": {},
     "output_type": "execute_result"
    }
   ],
   "source": [
    "features_coefs"
   ]
  },
  {
   "cell_type": "code",
   "execution_count": null,
   "metadata": {
    "collapsed": true
   },
   "outputs": [],
   "source": []
  }
 ],
 "metadata": {
  "kernelspec": {
   "display_name": "Python 2",
   "language": "python",
   "name": "python2"
  },
  "language_info": {
   "codemirror_mode": {
    "name": "ipython",
    "version": 2
   },
   "file_extension": ".py",
   "mimetype": "text/x-python",
   "name": "python",
   "nbconvert_exporter": "python",
   "pygments_lexer": "ipython2",
   "version": "2.7.11"
  }
 },
 "nbformat": 4,
 "nbformat_minor": 0
}
