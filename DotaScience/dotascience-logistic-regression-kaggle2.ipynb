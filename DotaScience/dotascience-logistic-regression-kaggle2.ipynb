{
 "cells": [
  {
   "cell_type": "markdown",
   "metadata": {},
   "source": [
    "# Improvement: own classifier for each lobby"
   ]
  },
  {
   "cell_type": "code",
   "execution_count": 1,
   "metadata": {
    "collapsed": true
   },
   "outputs": [],
   "source": [
    "import pandas as pd"
   ]
  },
  {
   "cell_type": "code",
   "execution_count": 2,
   "metadata": {
    "collapsed": true
   },
   "outputs": [],
   "source": [
    "import numpy as np"
   ]
  },
  {
   "cell_type": "code",
   "execution_count": 3,
   "metadata": {
    "collapsed": true
   },
   "outputs": [],
   "source": [
    "from sklearn.linear_model import LogisticRegression\n",
    "\n",
    "from sklearn.preprocessing import scale\n",
    "\n",
    "from sklearn.cross_validation import KFold\n",
    "from sklearn.cross_validation import cross_val_score\n",
    "\n",
    "from sklearn.metrics import roc_auc_score"
   ]
  },
  {
   "cell_type": "markdown",
   "metadata": {},
   "source": [
    "# The function that cleans data"
   ]
  },
  {
   "cell_type": "code",
   "execution_count": 4,
   "metadata": {
    "collapsed": true
   },
   "outputs": [],
   "source": [
    "# Input: pandas dataframe, Output: numpy matrix\n",
    "def clean_data(features) :\n",
    "    \n",
    "    features.drop('lobby_type', axis = 1, inplace = True)\n",
    "    \n",
    "    # Time\n",
    "    min_time = min(features['start_time'])\n",
    "    features['start_time'] = features['start_time'] - min(features['start_time'])\n",
    "    \n",
    "    # NaN's: categorical\n",
    "    categorical_features = ['first_blood_player1', 'first_blood_player2',\n",
    "                            'r1_hero', 'r2_hero', 'r3_hero', 'r4_hero', 'r5_hero',\n",
    "                            'd1_hero', 'd2_hero', 'd3_hero', 'd4_hero', 'd5_hero']\n",
    "    for categorical_feature in categorical_features :\n",
    "        most_popular = features[categorical_feature].dropna().value_counts().idxmax()\n",
    "        features[categorical_feature].fillna(most_popular, inplace = True)\n",
    "        \n",
    "    # NaN's: numerical\n",
    "    time_features = ['first_blood_time',\n",
    "                     'radiant_bottle_time', 'radiant_courier_time', 'radiant_flying_courier_time', 'radiant_first_ward_time',\n",
    "                     'dire_bottle_time', 'dire_courier_time', 'dire_flying_courier_time', 'dire_first_ward_time']\n",
    "    \n",
    "    numerical_features = []\n",
    "    for feature in features :\n",
    "        if (feature not in categorical_features) :\n",
    "            numerical_features.append(feature)\n",
    "            \n",
    "    for numerical_feature in numerical_features :\n",
    "        if (numerical_feature in time_features) :\n",
    "            features[numerical_feature].fillna(300, inplace = True)\n",
    "        else :\n",
    "            median = features[numerical_feature].dropna().median()\n",
    "            features[numerical_feature].fillna(median, inplace = True)\n",
    "    \n",
    "    # Scaling numerical features\n",
    "    X_numerical_scaled = scale(features[numerical_features].as_matrix())\n",
    "    \n",
    "    # How many heros are in the game?\n",
    "    hero_features = ['r1_hero', 'r2_hero', 'r3_hero', 'r4_hero', 'r5_hero',\n",
    "                     'd1_hero', 'd2_hero', 'd3_hero', 'd4_hero', 'd5_hero']\n",
    "    n_heroes = [max(features_train[x].value_counts().index) for x in hero_features]\n",
    "    N = max(n_heroes)\n",
    "      \n",
    "    # Using bag of words for categorical features\n",
    "    X_pick = np.zeros((features.shape[0], N))\n",
    "    for i, match_id in enumerate(features.index):\n",
    "        for p in xrange(5):\n",
    "            X_pick[i, features.ix[match_id, 'r%d_hero' % (p + 1)] - 1] = 1\n",
    "            X_pick[i, features.ix[match_id, 'd%d_hero' % (p + 1)] - 1] = -1\n",
    "    \n",
    "    return np.hstack((X_numerical_scaled, X_pick))"
   ]
  },
  {
   "cell_type": "markdown",
   "metadata": {},
   "source": [
    "# Getting and preparing data"
   ]
  },
  {
   "cell_type": "code",
   "execution_count": 5,
   "metadata": {
    "collapsed": false
   },
   "outputs": [],
   "source": [
    "features_train = pd.read_csv('./data/features.csv', index_col='match_id')\n",
    "features_test  = pd.read_csv('./data/features_test.csv', index_col='match_id')"
   ]
  },
  {
   "cell_type": "code",
   "execution_count": 6,
   "metadata": {
    "collapsed": false
   },
   "outputs": [],
   "source": [
    "target_train = features_train['radiant_win']"
   ]
  },
  {
   "cell_type": "code",
   "execution_count": 7,
   "metadata": {
    "collapsed": false
   },
   "outputs": [],
   "source": [
    "features_train.drop(['duration', 'radiant_win', 'tower_status_radiant','tower_status_dire',\n",
    "                     'barracks_status_radiant', 'barracks_status_dire'], axis = 1, inplace = True)"
   ]
  },
  {
   "cell_type": "code",
   "execution_count": 8,
   "metadata": {
    "collapsed": false
   },
   "outputs": [
    {
     "data": {
      "text/plain": [
       "1    55962\n",
       "7    28550\n",
       "0    12718\n",
       "Name: lobby_type, dtype: int64"
      ]
     },
     "execution_count": 8,
     "metadata": {},
     "output_type": "execute_result"
    }
   ],
   "source": [
    "features_train['lobby_type'].value_counts()"
   ]
  },
  {
   "cell_type": "code",
   "execution_count": 9,
   "metadata": {
    "collapsed": false
   },
   "outputs": [],
   "source": [
    "features_train_lobby0 = features_train[features_train['lobby_type'] == 0]\n",
    "features_train_lobby1 = features_train[features_train['lobby_type'] == 1]\n",
    "features_train_lobby7 = features_train[features_train['lobby_type'] == 7]\n",
    "\n",
    "features_test_lobby0 = features_test[features_test['lobby_type'] == 0]\n",
    "features_test_lobby1 = features_test[features_test['lobby_type'] == 1]\n",
    "features_test_lobby7 = features_test[features_test['lobby_type'] == 7]"
   ]
  },
  {
   "cell_type": "code",
   "execution_count": 10,
   "metadata": {
    "collapsed": false
   },
   "outputs": [
    {
     "name": "stderr",
     "output_type": "stream",
     "text": [
      "/Users/karfly/anaconda/lib/python2.7/site-packages/ipykernel/__main__.py:4: SettingWithCopyWarning: \n",
      "A value is trying to be set on a copy of a slice from a DataFrame\n",
      "\n",
      "See the caveats in the documentation: http://pandas.pydata.org/pandas-docs/stable/indexing.html#indexing-view-versus-copy\n",
      "/Users/karfly/anaconda/lib/python2.7/site-packages/ipykernel/__main__.py:8: SettingWithCopyWarning: \n",
      "A value is trying to be set on a copy of a slice from a DataFrame.\n",
      "Try using .loc[row_indexer,col_indexer] = value instead\n",
      "\n",
      "See the caveats in the documentation: http://pandas.pydata.org/pandas-docs/stable/indexing.html#indexing-view-versus-copy\n",
      "/Users/karfly/anaconda/lib/python2.7/site-packages/pandas/core/generic.py:2862: SettingWithCopyWarning: \n",
      "A value is trying to be set on a copy of a slice from a DataFrame\n",
      "\n",
      "See the caveats in the documentation: http://pandas.pydata.org/pandas-docs/stable/indexing.html#indexing-view-versus-copy\n",
      "  self._update_inplace(new_data)\n",
      "/Users/karfly/anaconda/lib/python2.7/site-packages/sklearn/preprocessing/data.py:167: UserWarning: Numerical issues were encountered when centering the data and might not be solved. Dataset may contain too large values. You may need to prescale your features.\n",
      "  warnings.warn(\"Numerical issues were encountered \"\n"
     ]
    }
   ],
   "source": [
    "X_train_lobby0 = clean_data(features_train_lobby0)\n",
    "X_train_lobby1 = clean_data(features_train_lobby1)\n",
    "X_train_lobby7 = clean_data(features_train_lobby7)\n",
    "\n",
    "X_test_lobby0 = clean_data(features_test_lobby0)\n",
    "X_test_lobby1 = clean_data(features_test_lobby1)\n",
    "X_test_lobby7 = clean_data(features_test_lobby7)"
   ]
  },
  {
   "cell_type": "code",
   "execution_count": 11,
   "metadata": {
    "collapsed": true
   },
   "outputs": [],
   "source": [
    "y_train_lobby0 = target_train[features_train['lobby_type'] == 0].as_matrix()\n",
    "y_train_lobby1 = target_train[features_train['lobby_type'] == 1].as_matrix()\n",
    "y_train_lobby7 = target_train[features_train['lobby_type'] == 7].as_matrix()"
   ]
  },
  {
   "cell_type": "markdown",
   "metadata": {},
   "source": [
    "# Creating and testing logistic regression model"
   ]
  },
  {
   "cell_type": "code",
   "execution_count": 12,
   "metadata": {
    "collapsed": false
   },
   "outputs": [
    {
     "data": {
      "text/plain": [
       "LogisticRegression(C=0.1, class_weight=None, dual=False, fit_intercept=True,\n",
       "          intercept_scaling=1, max_iter=100, multi_class='ovr', n_jobs=-1,\n",
       "          penalty='l2', random_state=42, solver='liblinear', tol=0.0001,\n",
       "          verbose=0, warm_start=False)"
      ]
     },
     "execution_count": 12,
     "metadata": {},
     "output_type": "execute_result"
    }
   ],
   "source": [
    "clf_lobby0 = LogisticRegression(penalty = 'l2', C = 0.1, random_state = 42, n_jobs = -1)\n",
    "clf_lobby0.fit(X_train_lobby0, y_train_lobby0)"
   ]
  },
  {
   "cell_type": "code",
   "execution_count": 13,
   "metadata": {
    "collapsed": false
   },
   "outputs": [
    {
     "data": {
      "text/plain": [
       "LogisticRegression(C=0.1, class_weight=None, dual=False, fit_intercept=True,\n",
       "          intercept_scaling=1, max_iter=100, multi_class='ovr', n_jobs=-1,\n",
       "          penalty='l2', random_state=42, solver='liblinear', tol=0.0001,\n",
       "          verbose=0, warm_start=False)"
      ]
     },
     "execution_count": 13,
     "metadata": {},
     "output_type": "execute_result"
    }
   ],
   "source": [
    "clf_lobby1 = LogisticRegression(penalty = 'l2', C = 0.1, random_state = 42, n_jobs = -1)\n",
    "clf_lobby1.fit(X_train_lobby1, y_train_lobby1)"
   ]
  },
  {
   "cell_type": "code",
   "execution_count": 14,
   "metadata": {
    "collapsed": false
   },
   "outputs": [
    {
     "data": {
      "text/plain": [
       "LogisticRegression(C=0.1, class_weight=None, dual=False, fit_intercept=True,\n",
       "          intercept_scaling=1, max_iter=100, multi_class='ovr', n_jobs=-1,\n",
       "          penalty='l2', random_state=42, solver='liblinear', tol=0.0001,\n",
       "          verbose=0, warm_start=False)"
      ]
     },
     "execution_count": 14,
     "metadata": {},
     "output_type": "execute_result"
    }
   ],
   "source": [
    "clf_lobby7 = LogisticRegression(penalty = 'l2', C = 0.1, random_state = 42, n_jobs = -1)\n",
    "clf_lobby7.fit(X_train_lobby7, y_train_lobby7)"
   ]
  },
  {
   "cell_type": "code",
   "execution_count": 15,
   "metadata": {
    "collapsed": false
   },
   "outputs": [],
   "source": [
    "predictions_lobby0 = clf_lobby0.predict_proba(X_test_lobby0)[:, 1]\n",
    "predictions_lobby0_df = pd.DataFrame({'match_id'    : features_test_lobby0.index,\n",
    "                                      'radiant_win' : predictions_lobby0\n",
    "                                     })"
   ]
  },
  {
   "cell_type": "code",
   "execution_count": 16,
   "metadata": {
    "collapsed": false
   },
   "outputs": [],
   "source": [
    "predictions_lobby1 = clf_lobby1.predict_proba(X_test_lobby1)[:, 1]\n",
    "predictions_lobby1_df = pd.DataFrame({'match_id'    : features_test_lobby1.index,\n",
    "                                      'radiant_win' : predictions_lobby1\n",
    "                                     })"
   ]
  },
  {
   "cell_type": "code",
   "execution_count": 17,
   "metadata": {
    "collapsed": true
   },
   "outputs": [],
   "source": [
    "predictions_lobby7 = clf_lobby7.predict_proba(X_test_lobby7)[:, 1]\n",
    "predictions_lobby7_df = pd.DataFrame({'match_id'    : features_test_lobby7.index,\n",
    "                                      'radiant_win' : predictions_lobby7\n",
    "                                     })"
   ]
  },
  {
   "cell_type": "code",
   "execution_count": 18,
   "metadata": {
    "collapsed": true
   },
   "outputs": [],
   "source": [
    "kaggle_answer = pd.concat([predictions_lobby0_df, predictions_lobby1_df, predictions_lobby7_df])"
   ]
  },
  {
   "cell_type": "code",
   "execution_count": 19,
   "metadata": {
    "collapsed": false
   },
   "outputs": [],
   "source": [
    "kaggle_answer.sort_values(by = ['match_id'], inplace = True)"
   ]
  },
  {
   "cell_type": "code",
   "execution_count": 20,
   "metadata": {
    "collapsed": false
   },
   "outputs": [],
   "source": [
    "kaggle_answer.to_csv('kaggle_answers/2.csv', index = False)"
   ]
  }
 ],
 "metadata": {
  "kernelspec": {
   "display_name": "Python 2",
   "language": "python",
   "name": "python2"
  },
  "language_info": {
   "codemirror_mode": {
    "name": "ipython",
    "version": 2
   },
   "file_extension": ".py",
   "mimetype": "text/x-python",
   "name": "python",
   "nbconvert_exporter": "python",
   "pygments_lexer": "ipython2",
   "version": "2.7.11"
  }
 },
 "nbformat": 4,
 "nbformat_minor": 0
}
